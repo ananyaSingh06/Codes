{
 "cells": [
  {
   "cell_type": "code",
   "execution_count": 3,
   "metadata": {},
   "outputs": [
    {
     "name": "stderr",
     "output_type": "stream",
     "text": [
      "<ipython-input-3-ad908489a34f>:7: DeprecationWarning: `np.bool` is a deprecated alias for the builtin `bool`. To silence this warning, use `bool` by itself. Doing this will not modify any behavior and is safe. If you specifically wanted the numpy scalar type, use `np.bool_` here.\n",
      "Deprecated in NumPy 1.20; for more details and guidance: https://numpy.org/devdocs/release/1.20.0-notes.html#deprecations\n",
      "  mask = np.triu(np.ones_like(d, dtype=np.bool))\n"
     ]
    },
    {
     "data": {
      "text/html": [
       "<div>\n",
       "<style scoped>\n",
       "    .dataframe tbody tr th:only-of-type {\n",
       "        vertical-align: middle;\n",
       "    }\n",
       "\n",
       "    .dataframe tbody tr th {\n",
       "        vertical-align: top;\n",
       "    }\n",
       "\n",
       "    .dataframe thead th {\n",
       "        text-align: right;\n",
       "    }\n",
       "</style>\n",
       "<table border=\"1\" class=\"dataframe\">\n",
       "  <thead>\n",
       "    <tr style=\"text-align: right;\">\n",
       "      <th></th>\n",
       "      <th>Wifi Count</th>\n",
       "      <th>PM2.5</th>\n",
       "      <th>NO2</th>\n",
       "      <th>NO</th>\n",
       "      <th>Nox</th>\n",
       "    </tr>\n",
       "  </thead>\n",
       "  <tbody>\n",
       "    <tr>\n",
       "      <th>Wifi Count</th>\n",
       "      <td>1.000000</td>\n",
       "      <td>0.206453</td>\n",
       "      <td>-0.743893</td>\n",
       "      <td>-0.017615</td>\n",
       "      <td>-0.583027</td>\n",
       "    </tr>\n",
       "    <tr>\n",
       "      <th>PM2.5</th>\n",
       "      <td>0.206453</td>\n",
       "      <td>1.000000</td>\n",
       "      <td>-0.224073</td>\n",
       "      <td>-0.062010</td>\n",
       "      <td>-0.522857</td>\n",
       "    </tr>\n",
       "    <tr>\n",
       "      <th>NO2</th>\n",
       "      <td>-0.743893</td>\n",
       "      <td>-0.224073</td>\n",
       "      <td>1.000000</td>\n",
       "      <td>0.288012</td>\n",
       "      <td>0.136590</td>\n",
       "    </tr>\n",
       "    <tr>\n",
       "      <th>NO</th>\n",
       "      <td>-0.017615</td>\n",
       "      <td>-0.062010</td>\n",
       "      <td>0.288012</td>\n",
       "      <td>1.000000</td>\n",
       "      <td>-0.620174</td>\n",
       "    </tr>\n",
       "    <tr>\n",
       "      <th>Nox</th>\n",
       "      <td>-0.583027</td>\n",
       "      <td>-0.522857</td>\n",
       "      <td>0.136590</td>\n",
       "      <td>-0.620174</td>\n",
       "      <td>1.000000</td>\n",
       "    </tr>\n",
       "  </tbody>\n",
       "</table>\n",
       "</div>"
      ],
      "text/plain": [
       "            Wifi Count     PM2.5       NO2        NO       Nox\n",
       "Wifi Count    1.000000  0.206453 -0.743893 -0.017615 -0.583027\n",
       "PM2.5         0.206453  1.000000 -0.224073 -0.062010 -0.522857\n",
       "NO2          -0.743893 -0.224073  1.000000  0.288012  0.136590\n",
       "NO           -0.017615 -0.062010  0.288012  1.000000 -0.620174\n",
       "Nox          -0.583027 -0.522857  0.136590 -0.620174  1.000000"
      ]
     },
     "execution_count": 3,
     "metadata": {},
     "output_type": "execute_result"
    },
    {
     "data": {
      "image/png": "[encoded data removed]",
      "text/plain": [
       "<Figure size 432x288 with 2 Axes>"
      ]
     },
     "metadata": {
      "needs_background": "light"
     },
     "output_type": "display_data"
    }
   ],
   "source": [
    "\n",
    "import numpy as np\n",
    "import matplotlib.pyplot as plt\n",
    "import pandas as pd\n",
    "import seaborn as sb\n",
    "data = pd.read_csv(r,encoding = 'latin1')\n",
    "d=data.corr()\n",
    "mask = np.triu(np.ones_like(d, dtype=np.bool))\n",
    "sb.heatmap(d, cmap=\"RdBu\", mask=mask,annot=True,vmin=-1,vmax=1)  \n",
    "plt.xticks(rotation=90)\n",
    "#plt.title('Spearman’s Correlation Test for April’20',fontsize=15)\n",
    "\n",
    "d[:]"
   ]
  }
 ],
 "metadata": {
  "interpreter": {
   "hash": "9926fdc2744bb0197573e996edfa359e36526de8eaca010feba84e4193f47997"
  },
  "kernelspec": {
   "display_name": "Python 3.9.5 64-bit",
   "name": "python3"
  },
  "language_info": {
   "codemirror_mode": {
    "name": "ipython",
    "version": 3
   },
   "file_extension": ".py",
   "mimetype": "text/x-python",
   "name": "python",
   "nbconvert_exporter": "python",
   "pygments_lexer": "ipython3",
   "version": "3.9.5"
  },
  "orig_nbformat": 4
 },
 "nbformat": 4,
 "nbformat_minor": 2
}
