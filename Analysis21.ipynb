{
 "cells": [
  {
   "cell_type": "code",
   "execution_count": null,
   "source": [
    "import pandas as pd\r\n",
    "import numpy as np\r\n",
    "import matplotlib.pyplot as plt\r\n",
    "import seaborn as sb\r\n",
    "data = pd.read_csv(r'C:\\Users\\iaman\\OneDrive\\Desktop\\SD21.csv',encoding = 'latin1')\r\n",
    "s1 = data['S1']\r\n",
    "v1 = data['V1']\r\n",
    "s2 = data['S2']\r\n",
    "v2 = data['V2']\r\n",
    "s3 = data['S3']\r\n",
    "v3 = data['V3']"
   ],
   "outputs": [],
   "metadata": {}
  },
  {
   "cell_type": "code",
   "execution_count": null,
   "source": [
    "wfig = plt.figure()\r\n",
    "myaxes = wfig.add_axes([0.15,0.15,0.75,0.75])\r\n",
    "myaxes.plot(s1,v1,'crimson',lw=2,label='Before Lockdown',marker='o',markersize=10,markerfacecolor='none')\r\n",
    "myaxes.plot(s2,v2,'y',lw=2,label='Night Curfew',marker='o',markersize=10,markerfacecolor='none')\r\n",
    "myaxes.plot(s3,v3,'teal',lw=2,label='Complete Lockdown',marker='o',markersize=10,markerfacecolor='none')\r\n",
    "myaxes.set_xlabel('Day of the Month')\r\n",
    "myaxes.set_ylabel('No. of Wifi Hits / Day')\r\n",
    "myaxes.xaxis.label.set_size(15)\r\n",
    "myaxes.yaxis.label.set_size(15)\r\n",
    "myaxes.xaxis.label.set_size(12)\r\n",
    "myaxes.yaxis.label.set_size(12)\r\n",
    "plt.ylim(0,70000)\r\n",
    "plt.xlim(0,17)\r\n",
    "myaxes.set_title('Wifi Hits (Station B)',fontsize =20)\r\n",
    "myaxes.legend()\r\n",
    "position = np.arange(0,17,1)\r\n",
    "lables=('','12','13','14','15','16','','20','21','22','23','','26','27','28','29','30')\r\n",
    "plt.xticks(position,lables)\r\n",
    "plt.legend(['Before Lockdown','Night Curfew','Complete Lockdown'],loc='upper left',fontsize=12)\r\n",
    "\r\n"
   ],
   "outputs": [],
   "metadata": {}
  },
  {
   "cell_type": "code",
   "execution_count": null,
   "source": [
    "wfig = plt.figure()\r\n",
    "myaxes = wfig.add_axes([0.1,0.1,1.6,1.6])\r\n",
    "myaxes.plot(s1,v1,'crimson',lw=2,label='16 April, 2021',marker='o',markersize=10,markerfacecolor='none')\r\n",
    "myaxes.plot(s2,v2,'y',lw=2,label='23 April, 2021',marker='o',markersize=10,markerfacecolor='none')\r\n",
    "myaxes.plot(s3,v3,'teal',lw=2,label='29 April, 2021',marker='o',markersize=10,markerfacecolor='none')\r\n",
    "myaxes.set_xlabel('Time of the Day')\r\n",
    "myaxes.set_ylabel('Concentration (\\u03bcg/$m^{3}$)')\r\n",
    "myaxes.xaxis.label.set_size(15)\r\n",
    "myaxes.yaxis.label.set_size(15)\r\n",
    "plt.ylim(0,30)\r\n",
    "plt.xlim(0,24)\r\n",
    "myaxes.set_title('$NO_{x}$ ',fontsize =20)\r\n",
    "myaxes.legend()\r\n",
    "position = np.arange(0,25,4)\r\n",
    "lables=('00:00','04:00','08:00','12:00','16:00','20:00','00:00')\r\n",
    "plt.xticks(position,lables)\r\n",
    "plt.savefig('NOx.png',bbox_inches='tight')"
   ],
   "outputs": [],
   "metadata": {}
  },
  {
   "cell_type": "code",
   "execution_count": null,
   "source": [
    "import pandas as pd\r\n",
    "import numpy as np\r\n",
    "import matplotlib.pyplot as plt\r\n",
    "import seaborn as sb\r\n",
    "data = pd.read_csv(r'C:\\Users\\iaman\\OneDrive\\Desktop\\T\\SD21.csv',encoding = 'latin1')\r\n",
    "s1 = data['S1']\r\n",
    "v1 = data['V1']\r\n",
    "s2 = data['S2']\r\n",
    "v2 = data['V2']\r\n",
    "s3 = data['S3']\r\n",
    "v3 = data['V3']\r\n",
    "s4 = data['S4']\r\n",
    "v4 = data['V4']\r\n",
    "s5 = data['S5']\r\n",
    "v5 = data['V5']\r\n",
    "\r\n",
    "wfig = plt.figure()\r\n",
    "myaxes = wfig.add_axes([0,0,1.2,1.2])\r\n",
    "myaxes.plot(s1,v1,'crimson',lw=2,label='12 April 2021',marker='o',markersize=10,markerfacecolor='none')\r\n",
    "myaxes.plot(s2,v2,'y',lw=2,label='21 April 2021',marker='o',markersize=10,markerfacecolor='none')\r\n",
    "myaxes.plot(s3,v3,'teal',lw=2,label='30 April 2021',marker='o',markersize=10,markerfacecolor='none')\r\n",
    "myaxes.plot(s4,v4,'black',linestyle='--')\r\n",
    "myaxes.plot(s5,v5,'black',linestyle='--')\r\n",
    "myaxes.set_xlabel('Time of the Day')\r\n",
    "myaxes.set_ylabel('Concentration (\\u03bcg/$m^{3}$)')\r\n",
    "myaxes.xaxis.label.set_size(12)\r\n",
    "myaxes.yaxis.label.set_size(12)\r\n",
    "myaxes.set_title('$NO_{x}$',fontsize =12)\r\n",
    "plt.ylim(0,30)\r\n",
    "\r\n",
    "plt.axvline(4,color='y',linestyle='--',linewidth=1)\r\n",
    "plt.axvline(21,color='y',linestyle='--',linewidth=1)\r\n",
    "plt.axvline(6,color='teal',linestyle='--',linewidth=1)\r\n",
    "plt.axvline(20,color='teal',linestyle='--',linewidth=1)\r\n",
    "#plt.axhline(80,color='red',linestyle='--',linewidth=1)\r\n",
    "#myaxes.set_title('$NO_{x}$',fontsize =12)\r\n",
    "\r\n",
    "\r\n",
    "position = np.arange(0,25,4)\r\n",
    "lables=('00:00','04:00','08:00','12:00','16:00','20:00','00:00')\r\n",
    "plt.xticks(position,lables)\r\n",
    "plt.legend(['12 April 2021','21 April 2021','30 April 2021'],loc='upper left',fontsize=10)\r\n"
   ],
   "outputs": [],
   "metadata": {}
  },
  {
   "cell_type": "code",
   "execution_count": null,
   "source": [
    "\r\n",
    "\r\n",
    "#plt.savefig('C:\\\\Users\\\\iaman\\\\OneDrive\\\\Desktop\\\\Covid Project\\\\Python\\\\S21\\\\NOxD.png',bbox_inches='tight')\r\n",
    "\r\n",
    "plt.xlim(0,15)\r\n",
    "\r\n",
    "position = np.arange(0,15,1)\r\n",
    "lables=('','12','13','14','15','16','20','21','22','23','26','27','28','29','30')\r\n",
    "plt.xticks(position,lables)\r\n",
    "plt.legend(['Before Lockdown','Night Curfew','Complete Lockdown'],loc='upper left',fontsize=10)"
   ],
   "outputs": [],
   "metadata": {}
  },
  {
   "cell_type": "code",
   "execution_count": null,
   "source": [
    "fig, ax = plt.subplots()\r\n",
    "ax.bar(pos, mean, yerr=error, align='center', alpha=0.5, ecolor='black', capsize=10)\r\n",
    "ax.set_ylabel('Wifi Hits / Hour')\r\n",
    "ax.set_xticks(pos)\r\n",
    "ax.set_xticklabels(day)\r\n",
    "ax.set_title('Average Hourly Wifi Hits (Station B)')\r\n",
    "ax.yaxis.grid(True)\r\n",
    "plt.ylim(0,5000)\r\n",
    "\r\n",
    "# Save the figure and show\r\n",
    "plt.tight_layout()\r\n",
    "plt.show()"
   ],
   "outputs": [],
   "metadata": {}
  },
  {
   "cell_type": "code",
   "execution_count": 9,
   "source": [
    "import pandas as pd\r\n",
    "import numpy as np\r\n",
    "import matplotlib.pyplot as plt\r\n",
    "import seaborn as sb\r\n",
    "data = pd.read_csv(r'C:\\Users\\iaman\\OneDrive\\Desktop\\T\\BW21.csv',encoding = 'latin1')\r\n",
    "\r\n",
    "#data\r\n",
    "d12 = data['day12']\r\n",
    "d13 = data['day13']\r\n",
    "d14 = data['day14']\r\n",
    "d15 = data['day15']\r\n",
    "\r\n",
    "d20 = data['day20']\r\n",
    "d21 = data['day21']\r\n",
    "d22 = data['day22']\r\n",
    "d23 = data['day23']\r\n",
    "\r\n",
    "d29 = data['day29']\r\n",
    "d30 = data['day30']\r\n",
    "\r\n",
    "#day\r\n",
    "d=[d12,d13,d14,d15,d20,d21,d22,d23,d29,d30]\r\n",
    "day=['','12','13','14','15','20','21','22','23','29','30']\r\n",
    "pos1=np.arange(len(day))\r\n",
    "\r\n",
    "fig=plt.figure()\r\n",
    "ax=fig.add_axes([0,0,1.2,1.2])\r\n",
    "ax.boxplot(d,sym='',patch_artist='True',boxprops=dict(facecolor='mistyrose'),showmeans='True')\r\n",
    "ax.set_ylabel('Concentration (\\u03bcg/$m^{3}$)',fontsize=12)\r\n",
    "ax.set_xticks(pos1)\r\n",
    "ax.set_xticklabels(day)\r\n",
    "plt.axvline(4.5,color='black',linestyle='--',linewidth=1)\r\n",
    "plt.axvline(8.5,color='black',linestyle='--',linewidth=1)\r\n",
    "plt.xlabel('Day of the Month',fontsize=12)\r\n",
    "ax.set_title('$NO_{}$',fontsize=12)\r\n",
    "ax.yaxis.grid(True)\r\n",
    "plt.ylim(0,20)\r\n",
    "#plt.axhline(100,color='red',linestyle='--',linewidth=1)\r\n",
    "\r\n",
    "# Save the figure and show\r\n",
    "\r\n",
    "plt.show()\r\n",
    "#plt.savefig('C:\\\\Users\\\\iaman\\\\OneDrive\\\\Desktop\\\\Covid Project\\\\Python\\\\NOxBP.png',bbox_inches='tight')"
   ],
   "outputs": [
    {
     "output_type": "display_data",
     "data": {
      "text/plain": [
       "<Figure size 432x288 with 1 Axes>"
      ],
      "image/png": "[encoded data removed]"
     },
     "metadata": {
      "needs_background": "light"
     }
    }
   ],
   "metadata": {}
  }
 ],
 "metadata": {
  "interpreter": {
   "hash": "9926fdc2744bb0197573e996edfa359e36526de8eaca010feba84e4193f47997"
  },
  "kernelspec": {
   "name": "python3",
   "display_name": "Python 3.9.5 64-bit"
  },
  "language_info": {
   "name": "python",
   "version": "3.9.5",
   "mimetype": "text/x-python",
   "codemirror_mode": {
    "name": "ipython",
    "version": 3
   },
   "pygments_lexer": "ipython3",
   "nbconvert_exporter": "python",
   "file_extension": ".py"
  },
  "orig_nbformat": 4
 },
 "nbformat": 4,
 "nbformat_minor": 2
}