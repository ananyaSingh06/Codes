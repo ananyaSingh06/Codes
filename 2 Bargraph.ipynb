{
 "cells": [
  {
   "cell_type": "code",
   "execution_count": null,
   "metadata": {},
   "outputs": [],
   "source": [
    "import pandas as pd\n",
    "import numpy as np\n",
    "import matplotlib.pyplot as plt\n",
    "import seaborn as sb\n",
    "dp = pd.read_csv(,encoding = 'latin1')\n",
    "dw = pd.read_csv(,encoding = 'latin1')"
   ]
  },
  {
   "cell_type": "code",
   "execution_count": null,
   "metadata": {},
   "outputs": [],
   "source": [
    "import pandas as pd\n",
    "import numpy as np\n",
    "import matplotlib.pyplot as plt\n",
    "import seaborn as sb\n",
    "dw = pd.read_csv(,encoding = 'latin1')\n",
    "\n",
    "dw.pivot(index='Variables',columns='Study Year',values='A').plot(kind='bar')\n",
    "plt.xticks(rotation=0)\n",
    "plt.ylim(0,30)\n",
    "plt.xlabel('Variables',fontsize=10)\n",
    "plt.ylabel('Concentration (\\u03bcg/$m^{3}$)',fontsize=10)\n",
    "plt.title('$PM_{2.5}$ ',fontsize =12)\n",
    "plt.legend(title='Variable',loc='upper right')"
   ]
  },
  {
   "cell_type": "code",
   "execution_count": null,
   "metadata": {},
   "outputs": [],
   "source": [
    "import pandas as pd\n",
    "import numpy as np\n",
    "import matplotlib.pyplot as plt\n",
    "import seaborn as sb\n",
    "dw = pd.read_csv(,encoding = 'latin1')\n",
    "\n",
    "data = pd.pivot_table(data=dw,index='Variables',columns='Study Year',values='A')\n",
    "data.plot(kind='bar')\n",
    "\n",
    "plt.xticks(rotation=0)\n",
    "plt.ylim(0,4000)\n",
    "plt.xlabel('Statistics',fontsize=10)\n",
    "#plt.ylabel('Concentration (\\u03bcg/$m^{3}$)',fontsize=10)\n",
    "#plt.title('$O_{3}$ ',fontsize =12)\n",
    "plt.ylabel('No. of Wifi Hits / Day',fontsize=10)\n",
    "plt.title('Wifi Hits  ',fontsize =12)\n",
    "plt.legend(['2020','2021'],title='Year',loc='upper right')"
   ]
  },
  {
   "cell_type": "code",
   "execution_count": null,
   "metadata": {},
   "outputs": [],
   "source": [
    "dw.pivot(index='Study Year',columns='Variable',values='B').plot(kind='bar')\n",
    "plt.xlabel('Year')\n",
    "plt.ylim(0,60000)\n",
    "plt.ylabel('No. of Wifi Hits / Day')\n",
    "plt.title('Wifi Hits April\\'20 VS April\\'21 (Station B)',fontsize =15)\n",
    "plt.legend(title='Variable',loc='upper left')"
   ]
  },
  {
   "cell_type": "code",
   "execution_count": null,
   "metadata": {},
   "outputs": [],
   "source": [
    "dp.pivot(index='Pollutants',columns='Variable',values='V20').plot(kind='bar')\n",
    "plt.xlabel('Pollutants')\n",
    "plt.ylim(0,30)\n",
    "plt.ylabel('Concentration (\\u03bcg/$m^{3}$)')\n",
    "plt.title('Air Quality in April\\'20',fontsize =15)\n",
    "plt.legend(title='Variable',loc='upper left')"
   ]
  },
  {
   "cell_type": "code",
   "execution_count": null,
   "metadata": {},
   "outputs": [],
   "source": [
    "dp.pivot(index='Pollutants',columns='Variable',values='V21').plot(kind='bar')\n",
    "plt.xlabel('Pollutants')\n",
    "plt.ylim(0,30)\n",
    "plt.ylabel('Concentration (\\u03bcg/$m^{3}$)')\n",
    "plt.title('Air Quality in April\\'21',fontsize =15)\n",
    "plt.legend(title='Variable',loc='upper left')"
   ]
  },
  {
   "cell_type": "code",
   "execution_count": null,
   "metadata": {},
   "outputs": [],
   "source": []
  }
 ],
 "metadata": {
  "interpreter": {
   "hash": "9926fdc2744bb0197573e996edfa359e36526de8eaca010feba84e4193f47997"
  },
  "kernelspec": {
   "display_name": "Python 3.9.5 64-bit",
   "name": "python3"
  },
  "language_info": {
   "codemirror_mode": {
    "name": "ipython",
    "version": 3
   },
   "file_extension": ".py",
   "mimetype": "text/x-python",
   "name": "python",
   "nbconvert_exporter": "python",
   "pygments_lexer": "ipython3",
   "version": "3.9.5"
  },
  "orig_nbformat": 4
 },
 "nbformat": 4,
 "nbformat_minor": 2
}
